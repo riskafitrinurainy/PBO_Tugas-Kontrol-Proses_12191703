{
  "nbformat": 4,
  "nbformat_minor": 0,
  "metadata": {
    "colab": {
      "name": "3.2_Tugas_Perulangan.ipynb",
      "provenance": [],
      "collapsed_sections": []
    },
    "kernelspec": {
      "name": "Python 3.9.0 64-bit",
      "display_name": "Python 3.9.0 64-bit",
      "metadata": {
        "interpreter": {
          "hash": "b5843a13e7131a14c3c0e364f0390d6592a995e3082c3f83420ac4385eeb2370"
        }
      }
    }
  },
  "cells": [
    {
      "cell_type": "code",
      "metadata": {
        "id": "fkV8YRAQlm-C"
      },
      "source": [
        ""
      ],
      "execution_count": null,
      "outputs": []
    },
    {
      "source": [
        "## Access Element\n",
        "Keunikan lain dari looping dengan python adalah selain bahasa yang mudah dimengerti dalam looping, kita juga bisa mengakses elemen yang terdapat pada sebuah list. Berikut ini contohnya :\n",
        "``` javascript\n",
        "#Tugas 3.2.1\n",
        "count=[1,2,3,4,5] #elemen list\n",
        "\n",
        "for number in count: #looping untuk menampilkan semua elemen pada count\n",
        "    print(\"Ini adalah element count : \", number) #menampilkan elemen list pada count\n",
        "```\n",
        "Implekementasikan kode diatas, ketikan pada code cell di bawah ini, berikan penjelasan terkait kode diatas"
      ],
      "cell_type": "markdown",
      "metadata": {
        "id": "lnkJ-zBHl3jp"
      }
    },
    {
      "cell_type": "code",
      "metadata": {
        "id": "xYjQqqNLm-dB"
      },
      "source": [
        "# Jawaban Tugas 3.2.1\n",
        "\n",
        "count=[1,2,3,4,5]\n",
        "for number in count:\n",
        "    print(\"Ini adalah element count: \", number)"
      ],
      "execution_count": 12,
      "outputs": [
        {
          "output_type": "stream",
          "name": "stdout",
          "text": [
            "Ini adalah element count:  1\nIni adalah element count:  2\nIni adalah element count:  3\nIni adalah element count:  4\nIni adalah element count:  5\n"
          ]
        }
      ]
    },
    {
      "cell_type": "markdown",
      "metadata": {
        "id": "figDWKAcnZRA"
      },
      "source": [
        "## Tugas Praktek 3.2.2\n",
        "1. Buatlah sebuah program yang bisa mengeluarkan angka 1 sampai 10.\n",
        "1. Buatlah sebuah program yang bisa mengeluarkan angka -20 sampai -50.\n",
        "3. Tampilan akan menunjukan \"Angka ganjil 1\" untuk angka ganjil dan \"Angka genap 2\" untuk angka genap. (Menggunakan looping for)\n",
        "\n",
        "**Note:** Kode dasar sudah disertakan, Anda cukup mengganti tanda # dengan nilai-nilai yang sesuai."
      ]
    },
    {
      "cell_type": "code",
      "metadata": {
        "id": "MElhruOTntzZ"
      },
      "source": [
        "#Jawaban Tugas 3.2.1.1\n",
        "print('Cara 1')\n",
        "count = [1,2,3,4,5,6,7,8,9,10]\n",
        "for i in count:\n",
        "    print(i)\n",
        "\n",
        "print('Cara 2')\n",
        "for i in range(10):\n",
        "    print(i+1)\n",
        "    # perulangkan rentang 10 angka (0-9)\n",
        "    # lalu di tambah 1 tiap perulangan agar i dimulai dari 1 dan diakhiri dengan angka 10"
      ],
      "execution_count": 7,
      "outputs": [
        {
          "output_type": "stream",
          "name": "stdout",
          "text": [
            "Cara 1\n1\n2\n3\n4\n5\n6\n7\n8\n9\n10\nCara 2\n1\n2\n3\n4\n5\n6\n7\n8\n9\n10\n"
          ]
        }
      ]
    },
    {
      "cell_type": "code",
      "metadata": {
        "id": "NFtMjrQznuF2"
      },
      "source": [
        "#Jawaban Tugas 3.2.1.2\n",
        "count = -20\n",
        "\n",
        "# selama var count lebih dari sama dengan -50, maka perulangankan \n",
        "# dan kurangi var count sebanyak 1 tiap perulangan\n",
        "while (count >= -50):\n",
        "    print(count)\n",
        "    count = count - 1"
      ],
      "execution_count": 17,
      "outputs": [
        {
          "output_type": "stream",
          "name": "stdout",
          "text": [
            "-20\n-21\n-22\n-23\n-24\n-25\n-26\n-27\n-28\n-29\n-30\n-31\n-32\n-33\n-34\n-35\n-36\n-37\n-38\n-39\n-40\n-41\n-42\n-43\n-44\n-45\n-46\n-47\n-48\n-49\n-50\n"
          ]
        }
      ]
    },
    {
      "cell_type": "code",
      "metadata": {
        "id": "xpGigMPBpBy7"
      },
      "source": [
        "#Jawaban Tugas 3.2.1.3\n",
        "\n",
        "for i in range(10):\n",
        "    # jika i habis ketika dibagi 2, maka i tersebut adalah angka genap\n",
        "    if(i%2==0):\n",
        "        print(i, \" adalah bilangan Genap.\")\n",
        "    else: # jika tidak? maka i tersebut angka ganjil\n",
        "        print(i, \" adalah bilangan Ganjil.\")"
      ],
      "execution_count": 19,
      "outputs": [
        {
          "output_type": "stream",
          "name": "stdout",
          "text": [
            "0  adalah bilangan Genap.\n1  adalah bilangan Ganjil.\n2  adalah bilangan Genap.\n3  adalah bilangan Ganjil.\n4  adalah bilangan Genap.\n5  adalah bilangan Ganjil.\n6  adalah bilangan Genap.\n7  adalah bilangan Ganjil.\n8  adalah bilangan Genap.\n9  adalah bilangan Ganjil.\n"
          ]
        }
      ]
    },
    {
      "cell_type": "code",
      "execution_count": null,
      "metadata": {},
      "outputs": [],
      "source": []
    }
  ]
}